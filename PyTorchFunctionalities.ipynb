{
  "nbformat": 4,
  "nbformat_minor": 0,
  "metadata": {
    "colab": {
      "provenance": [],
      "authorship_tag": "ABX9TyN/Kg8aWcnHPJnXpu0PaL96",
      "include_colab_link": true
    },
    "kernelspec": {
      "name": "python3",
      "display_name": "Python 3"
    },
    "language_info": {
      "name": "python"
    }
  },
  "cells": [
    {
      "cell_type": "markdown",
      "metadata": {
        "id": "view-in-github",
        "colab_type": "text"
      },
      "source": [
        "<a href=\"https://colab.research.google.com/github/Siddharth-Singh-2004/PyTorchFunctionality/blob/main/PyTorchFunctionalities.ipynb\" target=\"_parent\"><img src=\"https://colab.research.google.com/assets/colab-badge.svg\" alt=\"Open In Colab\"/></a>"
      ]
    },
    {
      "cell_type": "code",
      "source": [
        "import math\n",
        "import random\n",
        "import numpy as np\n",
        "import matplotlib.pyplot as plt"
      ],
      "metadata": {
        "id": "gmV-iSn2SN5Y"
      },
      "execution_count": 165,
      "outputs": []
    },
    {
      "cell_type": "code",
      "source": [
        "# Defining a function\n",
        "def f(x):\n",
        "  return x**2 - 3*x + 2\n",
        "\n",
        "# Plotting the function\n",
        "xs = np.arange(-5, 5, 0.25)\n",
        "ys = f(xs)\n",
        "plt.plot(xs, ys)"
      ],
      "metadata": {
        "colab": {
          "base_uri": "https://localhost:8080/",
          "height": 447
        },
        "id": "TUMSAWpjiFEh",
        "outputId": "e259aa5f-f828-4305-a422-f1d8122972fd"
      },
      "execution_count": 166,
      "outputs": [
        {
          "output_type": "execute_result",
          "data": {
            "text/plain": [
              "[<matplotlib.lines.Line2D at 0x7f4a043ab0a0>]"
            ]
          },
          "metadata": {},
          "execution_count": 166
        },
        {
          "output_type": "display_data",
          "data": {
            "text/plain": [
              "<Figure size 640x480 with 1 Axes>"
            ],
            "image/png": "[encoded data removed]"
          },
          "metadata": {}
        }
      ]
    },
    {
      "cell_type": "code",
      "source": [
        "# Calculating gradient of the function\n",
        "x = 3/2\n",
        "h = 0.0001\n",
        "(f(x+h) - f(x))/h"
      ],
      "metadata": {
        "colab": {
          "base_uri": "https://localhost:8080/"
        },
        "id": "-ZpPFG_1jTVY",
        "outputId": "6d87537c-2f99-4e27-d925-9c30ccd3f74b"
      },
      "execution_count": 167,
      "outputs": [
        {
          "output_type": "execute_result",
          "data": {
            "text/plain": [
              "9.99999993922529e-05"
            ]
          },
          "metadata": {},
          "execution_count": 167
        }
      ]
    },
    {
      "cell_type": "markdown",
      "source": [
        "Implementing with PyTorch"
      ],
      "metadata": {
        "id": "yY1hejoRjdWH"
      }
    },
    {
      "cell_type": "code",
      "source": [
        "# Multi-variate functions\n",
        "a = 3\n",
        "b = 2\n",
        "c = 7\n",
        "d = a*(b**2) + c\n",
        "\n",
        "h = 0.0001\n",
        "\n",
        "# Calculating dd/db\n",
        "b += h\n",
        "d2 = a*(b**2) + c\n",
        "(d2 - d)/h"
      ],
      "metadata": {
        "colab": {
          "base_uri": "https://localhost:8080/"
        },
        "id": "7syMI6VQjh0g",
        "outputId": "bb883795-d5eb-45c0-e847-559019842485"
      },
      "execution_count": 168,
      "outputs": [
        {
          "output_type": "execute_result",
          "data": {
            "text/plain": [
              "12.000300000032382"
            ]
          },
          "metadata": {},
          "execution_count": 168
        }
      ]
    },
    {
      "cell_type": "code",
      "source": [
        "class Value:\n",
        "\n",
        "  def __init__(self, data, _children=(), _op='', label=''):\n",
        "    self.data = data\n",
        "    self.grad = 0.0\n",
        "    self._backward = lambda: None\n",
        "    self._prev = set(_children)\n",
        "    self._op = _op\n",
        "    self.label = label\n",
        "\n",
        "  def __repr__(self):\n",
        "    return f\"Value(data={self.data})\"\n",
        "\n",
        "  def __add__(self, other):\n",
        "    other = other if isinstance(other, Value) else Value(other)\n",
        "    out = Value(self.data + other.data, (self, other), '+')\n",
        "\n",
        "    def _backward():\n",
        "      self.grad += 1.0 * out.grad\n",
        "      other.grad += 1.0 * out.grad\n",
        "    out._backward = _backward\n",
        "\n",
        "    return out\n",
        "\n",
        "  def __mul__(self, other):\n",
        "    other = other if isinstance(other, Value) else Value(other)\n",
        "    out = Value(self.data * other.data, (self, other), '*')\n",
        "\n",
        "    def _backward():\n",
        "      self.grad += other.data * out.grad\n",
        "      other.grad += self.data * out.grad\n",
        "    out._backward = _backward\n",
        "\n",
        "    return out\n",
        "\n",
        "  def __pow__(self, other):\n",
        "    assert isinstance(other, (int, float)), \"only supporting int/float powers for now\"\n",
        "    out = Value(self.data**other, (self,), f'**{other}')\n",
        "\n",
        "    def _backward():\n",
        "        self.grad += other * (self.data ** (other - 1)) * out.grad\n",
        "    out._backward = _backward\n",
        "\n",
        "    return out\n",
        "\n",
        "  def __rmul__(self, other):\n",
        "    return self * other\n",
        "\n",
        "  def __truediv__(self, other):\n",
        "    return self * other**-1\n",
        "\n",
        "  def __neg__(self):\n",
        "    return self * -1\n",
        "\n",
        "  def __sub__(self, other):\n",
        "    return self + (-other)\n",
        "\n",
        "  def __radd__(self, other):\n",
        "    return self + other\n",
        "\n",
        "  def tanh(self):\n",
        "    x = self.data\n",
        "    t = (math.exp(2*x) - 1)/(math.exp(2*x) + 1)\n",
        "    out = Value(t, (self, ), 'tanh')\n",
        "\n",
        "    def _backward():\n",
        "      self.grad += (1 - t**2) * out.grad\n",
        "    out._backward = _backward\n",
        "\n",
        "    return out\n",
        "\n",
        "  def exp(self):\n",
        "    x = self.data\n",
        "    out = Value(math.exp(x), (self, ), 'exp')\n",
        "\n",
        "    def _backward():\n",
        "      self.grad += out.data * out.grad\n",
        "    out._backward = _backward\n",
        "\n",
        "    return out\n",
        "\n",
        "\n",
        "  def backward(self):\n",
        "\n",
        "    topo = []\n",
        "    visited = set()\n",
        "    def build_topo(v):\n",
        "      if v not in visited:\n",
        "        visited.add(v)\n",
        "        for child in v._prev:\n",
        "          build_topo(child)\n",
        "        topo.append(v)\n",
        "    build_topo(self)\n",
        "\n",
        "    self.grad = 1.0\n",
        "    for node in reversed(topo):\n",
        "      node._backward()\n",
        "\n"
      ],
      "metadata": {
        "id": "Sv_vyibokQUI"
      },
      "execution_count": 169,
      "outputs": []
    },
    {
      "cell_type": "code",
      "source": [
        "import torch"
      ],
      "metadata": {
        "id": "ZBOHMyCyMFlU"
      },
      "execution_count": 170,
      "outputs": []
    },
    {
      "cell_type": "code",
      "source": [
        "x1 = torch.tensor([1.0]).double(); x1.requires_grad = True\n",
        "w1 = torch.tensor([5.0]).double(); w1.requires_grad = True\n",
        "x2 = torch.tensor([2.0]).double(); x2.requires_grad = True\n",
        "w2 = torch.tensor([3.0]).double(); w2.requires_grad = True\n",
        "b = torch.tensor([4.0]).double(); b.requires_grad = True\n",
        "\n",
        "o = x1*w1 + x2*w2 + b\n",
        "print(o.data)\n",
        "o.backward()\n",
        "\n",
        "print(x1.grad.data.item())\n",
        "print(w1.grad.data.item())\n",
        "print(x2.grad.data.item())\n",
        "print(w2.grad.data.item())\n"
      ],
      "metadata": {
        "colab": {
          "base_uri": "https://localhost:8080/"
        },
        "id": "AOEC7LVdSQnk",
        "outputId": "2cfa21c5-9405-49c7-b0f5-24c73e1f8d0a"
      },
      "execution_count": 171,
      "outputs": [
        {
          "output_type": "stream",
          "name": "stdout",
          "text": [
            "tensor([15.], dtype=torch.float64)\n",
            "5.0\n",
            "1.0\n",
            "3.0\n",
            "2.0\n"
          ]
        }
      ]
    },
    {
      "cell_type": "code",
      "source": [
        "\n",
        "class Neuron:\n",
        "\n",
        "  def __init__(self, nin):\n",
        "    self.w = [Value(random.uniform(-1,1)) for _ in range(nin)]\n",
        "    self.b = Value(random.uniform(-1,1))\n",
        "\n",
        "  def __call__(self, x):\n",
        "    act = sum((wi*xi for wi, xi in zip(self.w, x)), self.b)\n",
        "    out = act.tanh()\n",
        "    return out\n",
        "\n",
        "  def parameters(self):\n",
        "    return self.w + [self.b]\n",
        "\n",
        "class Layer:\n",
        "\n",
        "  def __init__(self, nin, nout):\n",
        "    self.neurons = [Neuron(nin) for _ in range(nout)]\n",
        "\n",
        "  def __call__(self, x):\n",
        "    outs = [n(x) for n in self.neurons]\n",
        "    return outs[0] if len(outs) == 1 else outs\n",
        "\n",
        "  def parameters(self):\n",
        "    return [p for neuron in self.neurons for p in neuron.parameters()]\n",
        "\n",
        "class MLP:\n",
        "\n",
        "  def __init__(self, nin, nouts):\n",
        "    sz = [nin] + nouts\n",
        "    self.layers = [Layer(sz[i], sz[i+1]) for i in range(len(nouts))]\n",
        "\n",
        "  def __call__(self, x):\n",
        "    for layer in self.layers:\n",
        "      x = layer(x)\n",
        "    return x\n",
        "\n",
        "  def parameters(self):\n",
        "    return [p for layer in self.layers for p in layer.parameters()]\n"
      ],
      "metadata": {
        "id": "qK5DYm7fU_1R"
      },
      "execution_count": 172,
      "outputs": []
    },
    {
      "cell_type": "code",
      "source": [
        "x = [2.0, 3.0, 5.0]\n",
        "n = MLP(3, [4, 5, 1])\n",
        "n(x)"
      ],
      "metadata": {
        "colab": {
          "base_uri": "https://localhost:8080/"
        },
        "id": "DGNEpLnBRNIE",
        "outputId": "d0fa3b3a-9411-4d6a-8713-c59e2f145fd0"
      },
      "execution_count": 173,
      "outputs": [
        {
          "output_type": "execute_result",
          "data": {
            "text/plain": [
              "Value(data=-0.22595081601963954)"
            ]
          },
          "metadata": {},
          "execution_count": 173
        }
      ]
    },
    {
      "cell_type": "code",
      "source": [
        "xs = [\n",
        "  [2.0, 3.0, -1.0],\n",
        "  [3.0, -1.0, 0.5],\n",
        "  [0.5, 1.0, 1.0],\n",
        "  [1.0, 1.0, -1.0],\n",
        "]\n",
        "ys = [1.0, -1.0, -1.0, 1.0]"
      ],
      "metadata": {
        "id": "PKO70i_Ng2LC"
      },
      "execution_count": 174,
      "outputs": []
    },
    {
      "cell_type": "code",
      "source": [
        "epochs = 100\n",
        "\n",
        "for k in range(epochs):\n",
        "\n",
        "  # forward pass\n",
        "  ypred = [n(x) for x in xs]\n",
        "  loss = sum((yout - ygt)**2 for ygt, yout in zip(ys, ypred))\n",
        "\n",
        "  # backward pass\n",
        "  for p in n.parameters():\n",
        "    p.grad = 0.0\n",
        "  loss.backward()\n",
        "\n",
        "  # update\n",
        "  for p in n.parameters():\n",
        "    p.data += -0.1 * p.grad\n",
        "\n",
        "  print(f\"epoch {k}, loss: {loss.data}\")\n",
        ""
      ],
      "metadata": {
        "colab": {
          "base_uri": "https://localhost:8080/"
        },
        "id": "b7Ri5jwfR7Ay",
        "outputId": "7060bdf0-a5ba-41fc-a694-19e93a9f57a7"
      },
      "execution_count": 179,
      "outputs": [
        {
          "output_type": "stream",
          "name": "stdout",
          "text": [
            "epoch 0, loss: 0.006175328946344426\n",
            "epoch 1, loss: 0.006041538155021595\n",
            "epoch 2, loss: 0.005913302904185328\n",
            "epoch 3, loss: 0.005790285559357542\n",
            "epoch 4, loss: 0.005672175379516906\n",
            "epoch 5, loss: 0.00555868587335661\n",
            "epoch 6, loss: 0.005449552464384203\n",
            "epoch 7, loss: 0.005344530423096415\n",
            "epoch 8, loss: 0.005243393030874306\n",
            "epoch 9, loss: 0.005145929945556528\n",
            "epoch 10, loss: 0.005051945743069227\n",
            "epoch 11, loss: 0.004961258613183016\n",
            "epoch 12, loss: 0.004873699190566488\n",
            "epoch 13, loss: 0.004789109504914641\n",
            "epoch 14, loss: 0.004707342036134915\n",
            "epoch 15, loss: 0.004628258862444851\n",
            "epoch 16, loss: 0.004551730890826826\n",
            "epoch 17, loss: 0.00447763716064307\n",
            "epoch 18, loss: 0.0044058642123791705\n",
            "epoch 19, loss: 0.0043363055144815775\n",
            "epoch 20, loss: 0.0042688609421165785\n",
            "epoch 21, loss: 0.004203436302420266\n",
            "epoch 22, loss: 0.004139942901452252\n",
            "epoch 23, loss: 0.004078297148624287\n",
            "epoch 24, loss: 0.004018420194860372\n",
            "epoch 25, loss: 0.003960237601168301\n",
            "epoch 26, loss: 0.0039036790346723294\n",
            "epoch 27, loss: 0.0038486779894809373\n",
            "epoch 28, loss: 0.003795171530047954\n",
            "epoch 29, loss: 0.003743100054934827\n",
            "epoch 30, loss: 0.003692407079102335\n",
            "epoch 31, loss: 0.003643039033054798\n",
            "epoch 32, loss: 0.0035949450773306193\n",
            "epoch 33, loss: 0.003548076930986423\n",
            "epoch 34, loss: 0.003502388712856388\n",
            "epoch 35, loss: 0.00345783679448835\n",
            "epoch 36, loss: 0.0034143796637656873\n",
            "epoch 37, loss: 0.003371977798318514\n",
            "epoch 38, loss: 0.0033305935479134513\n",
            "epoch 39, loss: 0.003290191025086695\n",
            "epoch 40, loss: 0.0032507360033536075\n",
            "epoch 41, loss: 0.0032121958223889652\n",
            "epoch 42, loss: 0.0031745392996268746\n",
            "epoch 43, loss: 0.0031377366477784944\n",
            "epoch 44, loss: 0.0031017593978103827\n",
            "epoch 45, loss: 0.003066580326966111\n",
            "epoch 46, loss: 0.003032173391449788\n",
            "epoch 47, loss: 0.002998513663422997\n",
            "epoch 48, loss: 0.002965577271996001\n",
            "epoch 49, loss: 0.0029333413479209003\n",
            "epoch 50, loss: 0.002901783971718387\n",
            "epoch 51, loss: 0.002870884124992138\n",
            "epoch 52, loss: 0.002840621644704651\n",
            "epoch 53, loss: 0.002810977180206307\n",
            "epoch 54, loss: 0.0027819321528262946\n",
            "epoch 55, loss: 0.0027534687178492273\n",
            "epoch 56, loss: 0.0027255697287143837\n",
            "epoch 57, loss: 0.0026982187032877324\n",
            "epoch 58, loss: 0.002671399792068168\n",
            "epoch 59, loss: 0.00264509774819968\n",
            "epoch 60, loss: 0.002619297899170995\n",
            "epoch 61, loss: 0.0025939861200930565\n",
            "epoch 62, loss: 0.002569148808452749\n",
            "epoch 63, loss: 0.002544772860248375\n",
            "epoch 64, loss: 0.0025208456474198927\n",
            "epoch 65, loss: 0.0024973549964924903\n",
            "epoch 66, loss: 0.0024742891683580863\n",
            "epoch 67, loss: 0.002451636839124984\n",
            "epoch 68, loss: 0.0024293870819700795\n",
            "epoch 69, loss: 0.0024075293499333543\n",
            "epoch 70, loss: 0.0023860534595977548\n",
            "epoch 71, loss: 0.0023649495756019982\n",
            "epoch 72, loss: 0.0023442081959372243\n",
            "epoch 73, loss: 0.0023238201379814976\n",
            "epoch 74, loss: 0.0023037765252292676\n",
            "epoch 75, loss: 0.002284068774676149\n",
            "epoch 76, loss: 0.00226468858482132\n",
            "epoch 77, loss: 0.0022456279242526454\n",
            "epoch 78, loss: 0.002226879020781868\n",
            "epoch 79, loss: 0.002208434351099131\n",
            "epoch 80, loss: 0.002190286630918196\n",
            "epoch 81, loss: 0.002172428805585524\n",
            "epoch 82, loss: 0.002154854041127665\n",
            "epoch 83, loss: 0.002137555715713682\n",
            "epoch 84, loss: 0.002120527411510073\n",
            "epoch 85, loss: 0.0021037629069075086\n",
            "epoch 86, loss: 0.002087256169099668\n",
            "epoch 87, loss: 0.0020710013469956556\n",
            "epoch 88, loss: 0.0020549927644487754\n",
            "epoch 89, loss: 0.002039224913785397\n",
            "epoch 90, loss: 0.0020236924496182364\n",
            "epoch 91, loss: 0.002008390182929902\n",
            "epoch 92, loss: 0.0019933130754128904\n",
            "epoch 93, loss: 0.0019784562340531718\n",
            "epoch 94, loss: 0.00196381490594531\n",
            "epoch 95, loss: 0.001949384473327579\n",
            "epoch 96, loss: 0.0019351604488263745\n",
            "epoch 97, loss: 0.0019211384708996207\n",
            "epoch 98, loss: 0.0019073142994695466\n",
            "epoch 99, loss: 0.001893683811735808\n"
          ]
        }
      ]
    },
    {
      "cell_type": "code",
      "source": [
        "ypred"
      ],
      "metadata": {
        "colab": {
          "base_uri": "https://localhost:8080/"
        },
        "id": "3mVKwb0JXs0N",
        "outputId": "c53bb58a-31e6-491e-c6bc-8ed669d8a9e1"
      },
      "execution_count": 180,
      "outputs": [
        {
          "output_type": "execute_result",
          "data": {
            "text/plain": [
              "[Value(data=0.9888606863075148),\n",
              " Value(data=-0.9711082407397805),\n",
              " Value(data=-0.9791418231109739),\n",
              " Value(data=0.9776437434727583)]"
            ]
          },
          "metadata": {},
          "execution_count": 180
        }
      ]
    }
  ]
}