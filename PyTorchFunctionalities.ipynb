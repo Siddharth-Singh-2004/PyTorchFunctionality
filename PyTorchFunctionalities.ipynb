{
  "nbformat": 4,
  "nbformat_minor": 0,
  "metadata": {
    "colab": {
      "provenance": [],
      "authorship_tag": "ABX9TyOAjf8J+z6TZ2Cyr5Bf3/bI",
      "include_colab_link": true
    },
    "kernelspec": {
      "name": "python3",
      "display_name": "Python 3"
    },
    "language_info": {
      "name": "python"
    }
  },
  "cells": [
    {
      "cell_type": "markdown",
      "metadata": {
        "id": "view-in-github",
        "colab_type": "text"
      },
      "source": [
        "<a href=\"https://colab.research.google.com/github/Siddharth-Singh-2004/PyTorchFunctionality/blob/main/PyTorchFunctionalities.ipynb\" target=\"_parent\"><img src=\"https://colab.research.google.com/assets/colab-badge.svg\" alt=\"Open In Colab\"/></a>"
      ]
    },
    {
      "cell_type": "code",
      "source": [
        "import torch\n",
        "import random\n",
        "import numpy as np"
      ],
      "metadata": {
        "id": "gmV-iSn2SN5Y"
      },
      "execution_count": 18,
      "outputs": []
    },
    {
      "cell_type": "code",
      "source": [
        "x1 = torch.tensor([1.0]).double(); x1.requires_grad = True\n",
        "w1 = torch.tensor([5.0]).double(); w1.requires_grad = True\n",
        "x2 = torch.tensor([2.0]).double(); x2.requires_grad = True\n",
        "w2 = torch.tensor([3.0]).double(); w2.requires_grad = True\n",
        "b = torch.tensor([4.0]).double(); b.requires_grad = True\n",
        "o = x1 * w1 + x2 * w2 + b\n",
        "print(o.data)\n",
        "o.backward()\n",
        "\n",
        "print(x1.grad.data)\n",
        "print(w1.data)\n",
        "print(x2.data)\n",
        "print(w2.data)\n"
      ],
      "metadata": {
        "colab": {
          "base_uri": "https://localhost:8080/"
        },
        "id": "AOEC7LVdSQnk",
        "outputId": "07155ff7-8fd9-485a-eca0-3c529d391ada"
      },
      "execution_count": null,
      "outputs": [
        {
          "output_type": "stream",
          "name": "stdout",
          "text": [
            "tensor([15.], dtype=torch.float64)\n",
            "tensor([5.], dtype=torch.float64)\n",
            "tensor([5.], dtype=torch.float64)\n",
            "tensor([2.], dtype=torch.float64)\n",
            "tensor([3.], dtype=torch.float64)\n"
          ]
        }
      ]
    },
    {
      "cell_type": "code",
      "source": [
        "# Creating a neuron\n",
        "class Neuron:\n",
        "\n",
        "  def __init__(self, n_in):\n",
        "    self.w = np.array([random.uniform(-1, 1) for _ in range (n_in)])\n",
        "    self.b = random.uniform(-1, 1)\n",
        "\n",
        "  def __call__(self, x):\n",
        "    activation = np.dot(self.w, x) + self.b\n",
        "    output = np.tanh(activation)\n",
        "    return output.item()\n",
        "\n",
        "# Creating a layer\n",
        "class Layer:\n",
        "\n",
        "  def __init__(self, n_in, n_out):\n",
        "    self.neurons = [Neuron(n_in) for _ in range(n_out)]\n",
        "\n",
        "  def __call__(self, x):\n",
        "    outputs = [n(x) for n in self.neurons]\n",
        "    return outputs\n",
        "\n",
        "# Creating a multi-layer perceptron\n",
        "class MLP:\n",
        "\n",
        "    def __init__(self, n_in, n_outs):\n",
        "      size = [n_in] + n_outs\n",
        "      self.layers = [Layer(size[i], size[i+1]) for i in range(len(n_outs))]\n",
        "\n",
        "    def __call__(self, x):\n",
        "      for layer in self.layers:\n",
        "        x = layer(x)\n",
        "      return x\n",
        "\n",
        "x = np.array([2.0, 3.0, 5.0])\n",
        "n = MLP(3, [4, 5, 1])\n",
        "n(x)"
      ],
      "metadata": {
        "colab": {
          "base_uri": "https://localhost:8080/"
        },
        "id": "qK5DYm7fU_1R",
        "outputId": "3ebd2d5b-5af9-4de8-a58c-a2bbdff12976"
      },
      "execution_count": 55,
      "outputs": [
        {
          "output_type": "execute_result",
          "data": {
            "text/plain": [
              "[-0.9423872021211663]"
            ]
          },
          "metadata": {},
          "execution_count": 55
        }
      ]
    }
  ]
}